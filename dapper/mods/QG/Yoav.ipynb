{
 "cells": [
  {
   "cell_type": "code",
   "execution_count": 3,
   "id": "952bf8a7",
   "metadata": {
    "scrolled": true
   },
   "outputs": [
    {
     "name": "stdout",
     "output_type": "stream",
     "text": [
      "calc.f90       interface.f90   prms_sample_generation.txt  qgstep.f90\r\n",
      "data.f90       Makefile        __pycache__\t\t   README.md\r\n",
      "helmholtz.f90  nfw.f90\t       qg.f90\t\t\t   utils.f90\r\n",
      "__init__.py    parameters.f90  qgflux.f90\r\n"
     ]
    }
   ],
   "source": [
    "!ls f90"
   ]
  },
  {
   "cell_type": "code",
   "execution_count": 4,
   "id": "21862c3b",
   "metadata": {},
   "outputs": [
    {
     "data": {
      "text/plain": [
       "'/home/yfreund/DAPPER/dapper/mods/QG'"
      ]
     },
     "execution_count": 4,
     "metadata": {},
     "output_type": "execute_result"
    }
   ],
   "source": [
    "%pwd"
   ]
  },
  {
   "cell_type": "code",
   "execution_count": null,
   "id": "40daa170",
   "metadata": {},
   "outputs": [],
   "source": [
    "%cd /home/yfreund/DAPPER/"
   ]
  },
  {
   "cell_type": "code",
   "execution_count": 5,
   "id": "2dc91d16",
   "metadata": {},
   "outputs": [],
   "source": [
    "%matplotlib inline"
   ]
  },
  {
   "cell_type": "code",
   "execution_count": 6,
   "id": "d0f4b162",
   "metadata": {},
   "outputs": [
    {
     "ename": "ModuleNotFoundError",
     "evalue": "No module named 'dapper'",
     "output_type": "error",
     "traceback": [
      "\u001b[0;31m---------------------------------------------------------------------------\u001b[0m",
      "\u001b[0;31mModuleNotFoundError\u001b[0m                       Traceback (most recent call last)",
      "Input \u001b[0;32mIn [6]\u001b[0m, in \u001b[0;36m<cell line: 23>\u001b[0;34m()\u001b[0m\n\u001b[1;32m     20\u001b[0m \u001b[38;5;28;01mimport\u001b[39;00m \u001b[38;5;21;01mmatplotlib\u001b[39;00m \u001b[38;5;28;01mas\u001b[39;00m \u001b[38;5;21;01mmpl\u001b[39;00m\n\u001b[1;32m     21\u001b[0m \u001b[38;5;28;01mimport\u001b[39;00m \u001b[38;5;21;01mnumpy\u001b[39;00m \u001b[38;5;28;01mas\u001b[39;00m \u001b[38;5;21;01mnp\u001b[39;00m\n\u001b[0;32m---> 23\u001b[0m \u001b[38;5;28;01mimport\u001b[39;00m \u001b[38;5;21;01mdapper\u001b[39;00m\u001b[38;5;21;01m.\u001b[39;00m\u001b[38;5;21;01mmods\u001b[39;00m \u001b[38;5;28;01mas\u001b[39;00m \u001b[38;5;21;01mmodelling\u001b[39;00m\n\u001b[1;32m     24\u001b[0m \u001b[38;5;28;01mimport\u001b[39;00m \u001b[38;5;21;01mdapper\u001b[39;00m\u001b[38;5;21;01m.\u001b[39;00m\u001b[38;5;21;01mtools\u001b[39;00m\u001b[38;5;21;01m.\u001b[39;00m\u001b[38;5;21;01mliveplotting\u001b[39;00m \u001b[38;5;28;01mas\u001b[39;00m \u001b[38;5;21;01mLP\u001b[39;00m\n",
      "\u001b[0;31mModuleNotFoundError\u001b[0m: No module named 'dapper'"
     ]
    }
   ],
   "source": [
    "# %load __init__.py\n",
    "\"\"\"Quasi-geostraphic 2D flow. Described in detail by `bib.sakov2008deterministic`.\n",
    "\n",
    "Adapted from Pavel Sakov's enkf-matlab package.\n",
    "\n",
    "More info:\n",
    "\n",
    "- `governing_eqn.png`\n",
    "- `demo.py`\n",
    "- ψ (psi) is the stream function (i.e. surface elevation)\n",
    "- Doubling time \"between 25 and 50\"\n",
    "- Note Sakov's trick of increasing RKH2 from 2.0e-12 to 2.0e-11 to stabilize\n",
    "  the ensemble integration, which may be necessary for EnKF's with small N.\n",
    "  See example in `counillon2009`.\n",
    "\"\"\"\n",
    "\n",
    "import sys\n",
    "from pathlib import Path\n",
    "\n",
    "import matplotlib as mpl\n",
    "import numpy as np\n",
    "\n",
    "import dapper.mods as modelling\n",
    "import dapper.tools.liveplotting as LP"
   ]
  },
  {
   "cell_type": "code",
   "execution_count": 8,
   "id": "770b678f",
   "metadata": {},
   "outputs": [],
   "source": [
    "#########################\n",
    "# Model\n",
    "#########################\n",
    "default_prms = dict(\n",
    "    # These parameters may be interesting to change.\n",
    "    dtout        = 5.0,      # dt for output to DAPPER.\n",
    "    dt           = 1.25,     # dt used internally by Fortran. CFL = 2.0\n",
    "    RKB          = 0,        # bottom     friction\n",
    "    RKH          = 0,        # horizontal friction\n",
    "    RKH2         = 2.0e-12,  # horizontal friction, biharmonic\n",
    "    F            = 1600,     # Froud number\n",
    "    R            = 1.0e-5,   # ≈ Rossby number\n",
    "    scheme       = \"'rk4'\",  # One of (2ndorder, rk4, dp5)\n",
    "    # Do not change the following:\n",
    "    tend         = 0,        # Only used by standalone QG\n",
    "    verbose      = 0,        # Turn off\n",
    "    rstart       = 0,        # Restart: switch\n",
    "    restartfname = \"''\",     # Restart: read file\n",
    "    outfname     = \"''\",     # Restart: write file\n",
    ")\n",
    "\n",
    "\n",
    "class model_config:\n",
    "    \"\"\"Define model.\n",
    "\n",
    "    Helps ensure consistency between prms file (that Fortran module reads)\n",
    "    and Python calls to step(), for example for dt.\n",
    "    \"\"\"\n",
    "\n",
    "    def __init__(self, name, prms, mp=True):\n",
    "        \"\"\"Use `prms={}` to get the default configuration.\"\"\"\n",
    "        # Insert prms. Assert key is present in defaults.\n",
    "        D = default_prms.copy()\n",
    "        for key in prms:\n",
    "            assert key in D\n",
    "            D[key] = prms[key]\n",
    "\n",
    "        # Fortran code does not adjust its dt to divide dtout.\n",
    "        # Nor is it worth implementing -- just assert:\n",
    "        assert D['dtout'] % D['dt'] == 0, \"Must be integer multiple\"\n",
    "\n",
    "        self.prms  = D\n",
    "        self.mp    = mp\n",
    "        self.name  = name\n",
    "        self.fname = Path(__file__).parent / 'f90' / f'prms_{name}.txt'\n",
    "\n",
    "        # Create string\n",
    "        text = [\"  %s = %s\" % (key.ljust(20), str(D[key])) for key in D]\n",
    "        text = \"\"\"! Parameter namelist (\"%s\") generated via Python\n",
    "        &parameters\\n\"\"\" % name + \"\\n\".join(text) + \"\"\"\\n/\\n\"\"\"\n",
    "\n",
    "        # Write string to file\n",
    "        with open(self.fname, 'w') as f:\n",
    "            f.write(text)\n",
    "\n",
    "    @property\n",
    "    def f90(self):\n",
    "        try:\n",
    "            from .f90.py_mod import interface_mod\n",
    "            return interface_mod\n",
    "        except ImportError as error:\n",
    "            error.msg = error.msg + (\n",
    "                \"\\nHave you compiled the (Fortran) model?\\n\"\n",
    "                f\"See README in {__name__.replace('.', '/')}/f90\"\n",
    "            )\n",
    "            raise\n",
    "\n",
    "    def step_1(self, x0, t, dt):\n",
    "        \"\"\"Step a single state vector.\"\"\"\n",
    "        # Coz fortran.step() reads dt (dtout) from prms file:\n",
    "        assert self.prms[\"dtout\"] == dt\n",
    "        # Coz Fortran is typed.\n",
    "        assert isinstance(t, float)\n",
    "        # QG is autonomous, but Fortran doesn't like nan/inf.\n",
    "        assert np.isfinite(t)\n",
    "        # Copy coz Fortran will modify in-place.\n",
    "        psi = py2f(x0.copy())\n",
    "        # Call Fortran model.\n",
    "        self.f90.step(t, psi, self.fname)\n",
    "        # Flattening\n",
    "        x = f2py(psi)\n",
    "        return x\n",
    "\n",
    "    def step(self, E, t, dt):\n",
    "        \"\"\"Vector and 2D-array (ens) input, with multiproc for ens case.\"\"\"\n",
    "        if E.ndim == 1:\n",
    "            return self.step_1(E, t, dt)\n",
    "        if E.ndim == 2:\n",
    "            if self.mp:  # PARALLELIZED:\n",
    "                # Note: the relative overhead for parallelization decreases\n",
    "                # as the ratio dtout/dt increases.\n",
    "                # But the overhead is already negligible with a ratio of 4.\n",
    "                import dapper.tools.multiproc as multiproc\n",
    "                with multiproc.Pool(self.mp) as pool:\n",
    "                    E = pool.map(lambda x: self.step_1(x, t=t, dt=dt), E)\n",
    "                E = np.array(E)\n",
    "            else:  # NON-PARALLELIZED:\n",
    "                for n, x in enumerate(E):\n",
    "                    E[n] = self.step_1(x, t, dt)\n",
    "            return E"
   ]
  },
  {
   "cell_type": "code",
   "execution_count": 9,
   "id": "35375070",
   "metadata": {},
   "outputs": [],
   "source": [
    "#########################\n",
    "# Domain management\n",
    "#########################\n",
    "# Domain size \"hardcoded\" in f90/parameters.f90.\n",
    "\n",
    "# \"Physical\" domain length -- copied from f90/parameters.f90.\n",
    "# In my tests, only square domains generate any dynamics of interest.\n",
    "NX1 = 2\n",
    "NY1 = 2\n",
    "# Resolution level -- copied MREFIN from parameters.f90\n",
    "res = 7\n",
    "# Grid lengths.\n",
    "nx = NX1 * 2 ** (res - 1) + 1  # (axis=1)\n",
    "ny = NY1 * 2 ** (res - 1) + 1  # (axis=0)\n",
    "# Actually, the BCs are psi = nabla psi = nabla^2 psi = 0,\n",
    "# => psi should always be zero on the boundries.\n",
    "# => it'd be safer to rm boundries from the DA state vector,\n",
    "#    yielding ndim(state)=(nx-2)*(ny-2), but this is not done here.\n",
    "\n",
    "# Fortran model (e.g. f90/interface.f90) requires orientation: X[ix,iy].\n",
    "shape = (nx, ny)\n",
    "# Passing arrays to/from Fortran requries that flags['F_CONTIGUOUS']==True.\n",
    "order = 'F'\n",
    "def py2f(x): return x.reshape(shape, order=order)\n",
    "def f2py(X): return X.flatten(order=order)\n",
    "# However, FOR PRINTING/PLOTTING PURPOSES, the y-axis should be vertical\n",
    "# [imshow(mat) uses the same orientation as print(mat)].\n",
    "def square(x): return x.reshape(shape[::-1])\n",
    "def ind2sub(ind): return np.unravel_index(ind, shape[::-1])"
   ]
  },
  {
   "cell_type": "code",
   "execution_count": 10,
   "id": "4783e64a",
   "metadata": {},
   "outputs": [
    {
     "name": "stdout",
     "output_type": "stream",
     "text": [
      "Did not find sample file /home/yfreund/dpr_data/samples/QG_samples.npz for experiment initialization. Generating...\n"
     ]
    },
    {
     "data": {
      "application/vnd.jupyter.widget-view+json": {
       "model_id": "4af82aa5be8246f8933f29351ebc7f68",
       "version_major": 2,
       "version_minor": 0
      },
      "text/plain": [
       "Simulating:   0%|                                                                    | 0/4700 [00:00<?, ?it/s]"
      ]
     },
     "metadata": {},
     "output_type": "display_data"
    },
    {
     "ename": "ModuleNotFoundError",
     "evalue": "No module named 'dapper.mods.QG.f90.py_mod'\nHave you compiled the (Fortran) model?\nSee README in dapper/mods/QG/f90",
     "output_type": "error",
     "traceback": [
      "\u001b[0;31m---------------------------------------------------------------------------\u001b[0m",
      "\u001b[0;31mModuleNotFoundError\u001b[0m                       Traceback (most recent call last)",
      "Input \u001b[0;32mIn [10]\u001b[0m, in \u001b[0;36m<cell line: 1>\u001b[0;34m()\u001b[0m\n\u001b[0;32m----> 1\u001b[0m \u001b[38;5;28;01mfrom\u001b[39;00m \u001b[38;5;21;01mdapper\u001b[39;00m\u001b[38;5;21;01m.\u001b[39;00m\u001b[38;5;21;01mmods\u001b[39;00m\u001b[38;5;21;01m.\u001b[39;00m\u001b[38;5;21;01mQG\u001b[39;00m \u001b[38;5;28;01mimport\u001b[39;00m gen_sample\n",
      "File \u001b[0;32m~/DAPPER/dapper/mods/QG/__init__.py:173\u001b[0m, in \u001b[0;36m<module>\u001b[0;34m\u001b[0m\n\u001b[1;32m    170\u001b[0m \u001b[38;5;28;01mif\u001b[39;00m (\u001b[38;5;129;01mnot\u001b[39;00m sample_filename\u001b[38;5;241m.\u001b[39mis_file()) \u001b[38;5;129;01mand\u001b[39;00m (\u001b[38;5;124m\"\u001b[39m\u001b[38;5;124mpdoc\u001b[39m\u001b[38;5;124m\"\u001b[39m \u001b[38;5;129;01mnot\u001b[39;00m \u001b[38;5;129;01min\u001b[39;00m sys\u001b[38;5;241m.\u001b[39mmodules):\n\u001b[1;32m    171\u001b[0m     \u001b[38;5;28mprint\u001b[39m(\u001b[38;5;124m'\u001b[39m\u001b[38;5;124mDid not find sample file\u001b[39m\u001b[38;5;124m'\u001b[39m, sample_filename,\n\u001b[1;32m    172\u001b[0m           \u001b[38;5;124m'\u001b[39m\u001b[38;5;124mfor experiment initialization. Generating...\u001b[39m\u001b[38;5;124m'\u001b[39m)\n\u001b[0;32m--> 173\u001b[0m     sample \u001b[38;5;241m=\u001b[39m \u001b[43mgen_sample\u001b[49m\u001b[43m(\u001b[49m\u001b[43mmodel_config\u001b[49m\u001b[43m(\u001b[49m\u001b[38;5;124;43m\"\u001b[39;49m\u001b[38;5;124;43msample_generation\u001b[39;49m\u001b[38;5;124;43m\"\u001b[39;49m\u001b[43m,\u001b[49m\u001b[43m \u001b[49m\u001b[43m{\u001b[49m\u001b[43m}\u001b[49m\u001b[43m)\u001b[49m\u001b[43m,\u001b[49m\u001b[43m \u001b[49m\u001b[38;5;241;43m400\u001b[39;49m\u001b[43m,\u001b[49m\u001b[43m \u001b[49m\u001b[38;5;241;43m700\u001b[39;49m\u001b[43m,\u001b[49m\u001b[43m \u001b[49m\u001b[38;5;241;43m10\u001b[39;49m\u001b[43m)\u001b[49m\n\u001b[1;32m    174\u001b[0m     np\u001b[38;5;241m.\u001b[39msavez(sample_filename, sample\u001b[38;5;241m=\u001b[39msample)\n\u001b[1;32m    177\u001b[0m \u001b[38;5;66;03m#########################\u001b[39;00m\n\u001b[1;32m    178\u001b[0m \u001b[38;5;66;03m# Liveplotting\u001b[39;00m\n\u001b[1;32m    179\u001b[0m \u001b[38;5;66;03m#########################\u001b[39;00m\n",
      "File \u001b[0;32m~/DAPPER/dapper/mods/QG/__init__.py:165\u001b[0m, in \u001b[0;36mgen_sample\u001b[0;34m(model, nSamples, SpinUp, Spacing)\u001b[0m\n\u001b[1;32m    163\u001b[0m K         \u001b[38;5;241m=\u001b[39m SpinUp \u001b[38;5;241m+\u001b[39m nSamples\u001b[38;5;241m*\u001b[39mSpacing\n\u001b[1;32m    164\u001b[0m Nx        \u001b[38;5;241m=\u001b[39m np\u001b[38;5;241m.\u001b[39mprod(shape)  \u001b[38;5;66;03m# total state length\u001b[39;00m\n\u001b[0;32m--> 165\u001b[0m sample    \u001b[38;5;241m=\u001b[39m \u001b[43msimulator\u001b[49m\u001b[43m(\u001b[49m\u001b[43mnp\u001b[49m\u001b[38;5;241;43m.\u001b[39;49m\u001b[43mzeros\u001b[49m\u001b[43m(\u001b[49m\u001b[43mNx\u001b[49m\u001b[43m)\u001b[49m\u001b[43m,\u001b[49m\u001b[43m \u001b[49m\u001b[43mK\u001b[49m\u001b[43m,\u001b[49m\u001b[43m \u001b[49m\u001b[38;5;241;43m0.0\u001b[39;49m\u001b[43m,\u001b[49m\u001b[43m \u001b[49m\u001b[43mmodel\u001b[49m\u001b[38;5;241;43m.\u001b[39;49m\u001b[43mprms\u001b[49m\u001b[43m[\u001b[49m\u001b[38;5;124;43m\"\u001b[39;49m\u001b[38;5;124;43mdtout\u001b[39;49m\u001b[38;5;124;43m\"\u001b[39;49m\u001b[43m]\u001b[49m\u001b[43m)\u001b[49m\n\u001b[1;32m    166\u001b[0m \u001b[38;5;28;01mreturn\u001b[39;00m sample[SpinUp::Spacing]\n",
      "File \u001b[0;32m~/DAPPER/dapper/mods/integration.py:142\u001b[0m, in \u001b[0;36mwith_recursion.<locals>.fun_k\u001b[0;34m(x0, k, *args, **kwargs)\u001b[0m\n\u001b[1;32m    139\u001b[0m     desc \u001b[38;5;241m=\u001b[39m prog\n\u001b[1;32m    141\u001b[0m \u001b[38;5;28;01mfor\u001b[39;00m i \u001b[38;5;129;01min\u001b[39;00m progbar(\u001b[38;5;28mrange\u001b[39m(k), desc):\n\u001b[0;32m--> 142\u001b[0m     xx[i\u001b[38;5;241m+\u001b[39m\u001b[38;5;241m1\u001b[39m] \u001b[38;5;241m=\u001b[39m \u001b[43mfunc\u001b[49m\u001b[43m(\u001b[49m\u001b[43mxx\u001b[49m\u001b[43m[\u001b[49m\u001b[43mi\u001b[49m\u001b[43m]\u001b[49m\u001b[43m,\u001b[49m\u001b[43m \u001b[49m\u001b[38;5;241;43m*\u001b[39;49m\u001b[43margs\u001b[49m\u001b[43m,\u001b[49m\u001b[43m \u001b[49m\u001b[38;5;241;43m*\u001b[39;49m\u001b[38;5;241;43m*\u001b[39;49m\u001b[43mkwargs\u001b[49m\u001b[43m)\u001b[49m\n\u001b[1;32m    144\u001b[0m \u001b[38;5;28;01mreturn\u001b[39;00m xx\n",
      "File \u001b[0;32m~/DAPPER/dapper/mods/QG/__init__.py:111\u001b[0m, in \u001b[0;36mmodel_config.step\u001b[0;34m(self, E, t, dt)\u001b[0m\n\u001b[1;32m    109\u001b[0m \u001b[38;5;124;03m\"\"\"Vector and 2D-array (ens) input, with multiproc for ens case.\"\"\"\u001b[39;00m\n\u001b[1;32m    110\u001b[0m \u001b[38;5;28;01mif\u001b[39;00m E\u001b[38;5;241m.\u001b[39mndim \u001b[38;5;241m==\u001b[39m \u001b[38;5;241m1\u001b[39m:\n\u001b[0;32m--> 111\u001b[0m     \u001b[38;5;28;01mreturn\u001b[39;00m \u001b[38;5;28;43mself\u001b[39;49m\u001b[38;5;241;43m.\u001b[39;49m\u001b[43mstep_1\u001b[49m\u001b[43m(\u001b[49m\u001b[43mE\u001b[49m\u001b[43m,\u001b[49m\u001b[43m \u001b[49m\u001b[43mt\u001b[49m\u001b[43m,\u001b[49m\u001b[43m \u001b[49m\u001b[43mdt\u001b[49m\u001b[43m)\u001b[49m\n\u001b[1;32m    112\u001b[0m \u001b[38;5;28;01mif\u001b[39;00m E\u001b[38;5;241m.\u001b[39mndim \u001b[38;5;241m==\u001b[39m \u001b[38;5;241m2\u001b[39m:\n\u001b[1;32m    113\u001b[0m     \u001b[38;5;28;01mif\u001b[39;00m \u001b[38;5;28mself\u001b[39m\u001b[38;5;241m.\u001b[39mmp:  \u001b[38;5;66;03m# PARALLELIZED:\u001b[39;00m\n\u001b[1;32m    114\u001b[0m         \u001b[38;5;66;03m# Note: the relative overhead for parallelization decreases\u001b[39;00m\n\u001b[1;32m    115\u001b[0m         \u001b[38;5;66;03m# as the ratio dtout/dt increases.\u001b[39;00m\n\u001b[1;32m    116\u001b[0m         \u001b[38;5;66;03m# But the overhead is already negligible with a ratio of 4.\u001b[39;00m\n",
      "File \u001b[0;32m~/DAPPER/dapper/mods/QG/__init__.py:103\u001b[0m, in \u001b[0;36mmodel_config.step_1\u001b[0;34m(self, x0, t, dt)\u001b[0m\n\u001b[1;32m    101\u001b[0m psi \u001b[38;5;241m=\u001b[39m py2f(x0\u001b[38;5;241m.\u001b[39mcopy())\n\u001b[1;32m    102\u001b[0m \u001b[38;5;66;03m# Call Fortran model.\u001b[39;00m\n\u001b[0;32m--> 103\u001b[0m \u001b[38;5;28;43mself\u001b[39;49m\u001b[38;5;241;43m.\u001b[39;49m\u001b[43mf90\u001b[49m\u001b[38;5;241m.\u001b[39mstep(t, psi, \u001b[38;5;28mself\u001b[39m\u001b[38;5;241m.\u001b[39mfname)\n\u001b[1;32m    104\u001b[0m \u001b[38;5;66;03m# Flattening\u001b[39;00m\n\u001b[1;32m    105\u001b[0m x \u001b[38;5;241m=\u001b[39m f2py(psi)\n",
      "File \u001b[0;32m~/DAPPER/dapper/mods/QG/__init__.py:83\u001b[0m, in \u001b[0;36mmodel_config.f90\u001b[0;34m(self)\u001b[0m\n\u001b[1;32m     80\u001b[0m \u001b[38;5;129m@property\u001b[39m\n\u001b[1;32m     81\u001b[0m \u001b[38;5;28;01mdef\u001b[39;00m \u001b[38;5;21mf90\u001b[39m(\u001b[38;5;28mself\u001b[39m):\n\u001b[1;32m     82\u001b[0m     \u001b[38;5;28;01mtry\u001b[39;00m:\n\u001b[0;32m---> 83\u001b[0m         \u001b[38;5;28;01mfrom\u001b[39;00m \u001b[38;5;21;01m.\u001b[39;00m\u001b[38;5;21;01mf90\u001b[39;00m\u001b[38;5;21;01m.\u001b[39;00m\u001b[38;5;21;01mpy_mod\u001b[39;00m \u001b[38;5;28;01mimport\u001b[39;00m interface_mod\n\u001b[1;32m     84\u001b[0m         \u001b[38;5;28;01mreturn\u001b[39;00m interface_mod\n\u001b[1;32m     85\u001b[0m     \u001b[38;5;28;01mexcept\u001b[39;00m \u001b[38;5;167;01mImportError\u001b[39;00m \u001b[38;5;28;01mas\u001b[39;00m error:\n",
      "\u001b[0;31mModuleNotFoundError\u001b[0m: No module named 'dapper.mods.QG.f90.py_mod'\nHave you compiled the (Fortran) model?\nSee README in dapper/mods/QG/f90"
     ]
    }
   ],
   "source": [
    "from dapper.mods.QG import gen_sample"
   ]
  },
  {
   "cell_type": "code",
   "execution_count": null,
   "id": "df65348b",
   "metadata": {},
   "outputs": [],
   "source": [
    "#########################\n",
    "# Free run\n",
    "#########################\n",
    "def gen_sample(model, nSamples, SpinUp, Spacing):\n",
    "    simulator = modelling.with_recursion(model.step, prog=\"Simulating\")\n",
    "    K         = SpinUp + nSamples*Spacing\n",
    "    Nx        = np.prod(shape)  # total state length\n",
    "    sample    = simulator(np.zeros(Nx), K, 0.0, model.prms[\"dtout\"])\n",
    "    return sample[SpinUp::Spacing]\n",
    "\n",
    "\n",
    "sample_filename = modelling.rc.dirs.samples/'QG_samples.npz'\n",
    "if (not sample_filename.is_file()) and (\"pdoc\" not in sys.modules):\n",
    "    print('Did not find sample file', sample_filename,\n",
    "          'for experiment initialization. Generating...')\n",
    "    sample = gen_sample(model_config(\"sample_generation\", {}), 400, 700, 10)\n",
    "    np.savez(sample_filename, sample=sample)\n",
    "\n",
    "\n",
    "#########################\n",
    "# Liveplotting\n",
    "#########################\n",
    "cm = mpl.colors.ListedColormap(0.85*mpl.cm.jet(np.arange(256)))\n",
    "center = nx*int(ny/2) + int(0.5*nx)\n",
    "\n",
    "\n",
    "def LP_setup(jj=None): return [\n",
    "    (1, LP.spatial2d(square, ind2sub, jj, cm)),\n",
    "    (0, LP.spectral_errors),\n",
    "    (0, LP.sliding_marginals(dims=center+np.arange(4))),\n",
    "]"
   ]
  },
  {
   "cell_type": "code",
   "execution_count": null,
   "id": "9a5d89b5",
   "metadata": {},
   "outputs": [],
   "source": []
  }
 ],
 "metadata": {
  "kernelspec": {
   "display_name": "Python 3 (ipykernel)",
   "language": "python",
   "name": "python3"
  },
  "language_info": {
   "codemirror_mode": {
    "name": "ipython",
    "version": 3
   },
   "file_extension": ".py",
   "mimetype": "text/x-python",
   "name": "python",
   "nbconvert_exporter": "python",
   "pygments_lexer": "ipython3",
   "version": "3.8.10"
  }
 },
 "nbformat": 4,
 "nbformat_minor": 5
}
