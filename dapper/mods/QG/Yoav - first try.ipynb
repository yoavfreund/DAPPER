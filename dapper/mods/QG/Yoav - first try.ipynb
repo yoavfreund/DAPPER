{
 "cells": [
  {
   "cell_type": "code",
   "execution_count": 3,
   "id": "c7a28a72",
   "metadata": {
    "scrolled": true
   },
   "outputs": [
    {
     "name": "stdout",
     "output_type": "stream",
     "text": [
      "calc.f90       interface.f90   prms_sample_generation.txt  qgstep.f90\r\n",
      "data.f90       Makefile        __pycache__\t\t   README.md\r\n",
      "helmholtz.f90  nfw.f90\t       qg.f90\t\t\t   utils.f90\r\n",
      "__init__.py    parameters.f90  qgflux.f90\r\n"
     ]
    }
   ],
   "source": [
    "!ls f90"
   ]
  },
  {
   "cell_type": "code",
   "execution_count": 4,
   "id": "63d5fa92",
   "metadata": {},
   "outputs": [
    {
     "data": {
      "text/plain": [
       "'/home/yfreund/DAPPER/dapper/mods/QG'"
      ]
     },
     "execution_count": 4,
     "metadata": {},
     "output_type": "execute_result"
    }
   ],
   "source": [
    "%pwd"
   ]
  },
  {
   "cell_type": "code",
   "execution_count": 7,
   "id": "31ebef3e",
   "metadata": {},
   "outputs": [
    {
     "name": "stdout",
     "output_type": "stream",
     "text": [
      "/home/yfreund/DAPPER\n"
     ]
    }
   ],
   "source": [
    "%cd /home/yfreund/DAPPER/"
   ]
  },
  {
   "cell_type": "code",
   "execution_count": 8,
   "id": "2a3b31f9",
   "metadata": {},
   "outputs": [],
   "source": [
    "%matplotlib inline"
   ]
  },
  {
   "cell_type": "code",
   "execution_count": 9,
   "id": "15f9b79e",
   "metadata": {},
   "outputs": [
    {
     "name": "stdout",
     "output_type": "stream",
     "text": [
      "\n",
      "Warning: You have not disableed interactive/live plotting in your dpr_config.yaml, but this is not supported by the current matplotlib backend: module://matplotlib_inline.backend_inline. To enable it, try using another backend.\n",
      "\n"
     ]
    },
    {
     "name": "stderr",
     "output_type": "stream",
     "text": [
      "/home/yfreund/DAPPER/dapper/tools/progressbar.py:140: UserWarning: Keyboard interaction (to skip/stop/pause the liveplotting) does not work in the current python frontend. If you wish, you can use dpr_config.yaml to disable the liveplotting altogether, which will silence this message.\n",
      "  _interaction_impossible()\n"
     ]
    }
   ],
   "source": [
    "# %load __init__.py\n",
    "\"\"\"Quasi-geostraphic 2D flow. Described in detail by `bib.sakov2008deterministic`.\n",
    "\n",
    "Adapted from Pavel Sakov's enkf-matlab package.\n",
    "\n",
    "More info:\n",
    "\n",
    "- `governing_eqn.png`\n",
    "- `demo.py`\n",
    "- ψ (psi) is the stream function (i.e. surface elevation)\n",
    "- Doubling time \"between 25 and 50\"\n",
    "- Note Sakov's trick of increasing RKH2 from 2.0e-12 to 2.0e-11 to stabilize\n",
    "  the ensemble integration, which may be necessary for EnKF's with small N.\n",
    "  See example in `counillon2009`.\n",
    "\"\"\"\n",
    "\n",
    "import sys\n",
    "from pathlib import Path\n",
    "\n",
    "import matplotlib as mpl\n",
    "import numpy as np\n",
    "\n",
    "import dapper.mods as modelling\n",
    "import dapper.tools.liveplotting as LP"
   ]
  },
  {
   "cell_type": "code",
   "execution_count": 10,
   "id": "e56a82ea",
   "metadata": {},
   "outputs": [],
   "source": [
    "#########################\n",
    "# Model\n",
    "#########################\n",
    "default_prms = dict(\n",
    "    # These parameters may be interesting to change.\n",
    "    dtout        = 5.0,      # dt for output to DAPPER.\n",
    "    dt           = 1.25,     # dt used internally by Fortran. CFL = 2.0\n",
    "    RKB          = 0,        # bottom     friction\n",
    "    RKH          = 0,        # horizontal friction\n",
    "    RKH2         = 2.0e-12,  # horizontal friction, biharmonic\n",
    "    F            = 1600,     # Froud number\n",
    "    R            = 1.0e-5,   # ≈ Rossby number\n",
    "    scheme       = \"'rk4'\",  # One of (2ndorder, rk4, dp5)\n",
    "    # Do not change the following:\n",
    "    tend         = 0,        # Only used by standalone QG\n",
    "    verbose      = 0,        # Turn off\n",
    "    rstart       = 0,        # Restart: switch\n",
    "    restartfname = \"''\",     # Restart: read file\n",
    "    outfname     = \"''\",     # Restart: write file\n",
    ")\n",
    "\n",
    "\n",
    "class model_config:\n",
    "    \"\"\"Define model.\n",
    "\n",
    "    Helps ensure consistency between prms file (that Fortran module reads)\n",
    "    and Python calls to step(), for example for dt.\n",
    "    \"\"\"\n",
    "\n",
    "    def __init__(self, name, prms, mp=True):\n",
    "        \"\"\"Use `prms={}` to get the default configuration.\"\"\"\n",
    "        # Insert prms. Assert key is present in defaults.\n",
    "        D = default_prms.copy()\n",
    "        for key in prms:\n",
    "            assert key in D\n",
    "            D[key] = prms[key]\n",
    "\n",
    "        # Fortran code does not adjust its dt to divide dtout.\n",
    "        # Nor is it worth implementing -- just assert:\n",
    "        assert D['dtout'] % D['dt'] == 0, \"Must be integer multiple\"\n",
    "\n",
    "        self.prms  = D\n",
    "        self.mp    = mp\n",
    "        self.name  = name\n",
    "        self.fname = Path(__file__).parent / 'f90' / f'prms_{name}.txt'\n",
    "\n",
    "        # Create string\n",
    "        text = [\"  %s = %s\" % (key.ljust(20), str(D[key])) for key in D]\n",
    "        text = \"\"\"! Parameter namelist (\"%s\") generated via Python\n",
    "        &parameters\\n\"\"\" % name + \"\\n\".join(text) + \"\"\"\\n/\\n\"\"\"\n",
    "\n",
    "        # Write string to file\n",
    "        with open(self.fname, 'w') as f:\n",
    "            f.write(text)\n",
    "\n",
    "    @property\n",
    "    def f90(self):\n",
    "        try:\n",
    "            from .f90.py_mod import interface_mod\n",
    "            return interface_mod\n",
    "        except ImportError as error:\n",
    "            error.msg = error.msg + (\n",
    "                \"\\nHave you compiled the (Fortran) model?\\n\"\n",
    "                f\"See README in {__name__.replace('.', '/')}/f90\"\n",
    "            )\n",
    "            raise\n",
    "\n",
    "    def step_1(self, x0, t, dt):\n",
    "        \"\"\"Step a single state vector.\"\"\"\n",
    "        # Coz fortran.step() reads dt (dtout) from prms file:\n",
    "        assert self.prms[\"dtout\"] == dt\n",
    "        # Coz Fortran is typed.\n",
    "        assert isinstance(t, float)\n",
    "        # QG is autonomous, but Fortran doesn't like nan/inf.\n",
    "        assert np.isfinite(t)\n",
    "        # Copy coz Fortran will modify in-place.\n",
    "        psi = py2f(x0.copy())\n",
    "        # Call Fortran model.\n",
    "        self.f90.step(t, psi, self.fname)\n",
    "        # Flattening\n",
    "        x = f2py(psi)\n",
    "        return x\n",
    "\n",
    "    def step(self, E, t, dt):\n",
    "        \"\"\"Vector and 2D-array (ens) input, with multiproc for ens case.\"\"\"\n",
    "        if E.ndim == 1:\n",
    "            return self.step_1(E, t, dt)\n",
    "        if E.ndim == 2:\n",
    "            if self.mp:  # PARALLELIZED:\n",
    "                # Note: the relative overhead for parallelization decreases\n",
    "                # as the ratio dtout/dt increases.\n",
    "                # But the overhead is already negligible with a ratio of 4.\n",
    "                import dapper.tools.multiproc as multiproc\n",
    "                with multiproc.Pool(self.mp) as pool:\n",
    "                    E = pool.map(lambda x: self.step_1(x, t=t, dt=dt), E)\n",
    "                E = np.array(E)\n",
    "            else:  # NON-PARALLELIZED:\n",
    "                for n, x in enumerate(E):\n",
    "                    E[n] = self.step_1(x, t, dt)\n",
    "            return E"
   ]
  },
  {
   "cell_type": "code",
   "execution_count": 11,
   "id": "77c2dc42",
   "metadata": {},
   "outputs": [],
   "source": [
    "#########################\n",
    "# Domain management\n",
    "#########################\n",
    "# Domain size \"hardcoded\" in f90/parameters.f90.\n",
    "\n",
    "# \"Physical\" domain length -- copied from f90/parameters.f90.\n",
    "# In my tests, only square domains generate any dynamics of interest.\n",
    "NX1 = 2\n",
    "NY1 = 2\n",
    "# Resolution level -- copied MREFIN from parameters.f90\n",
    "res = 7\n",
    "# Grid lengths.\n",
    "nx = NX1 * 2 ** (res - 1) + 1  # (axis=1)\n",
    "ny = NY1 * 2 ** (res - 1) + 1  # (axis=0)\n",
    "# Actually, the BCs are psi = nabla psi = nabla^2 psi = 0,\n",
    "# => psi should always be zero on the boundries.\n",
    "# => it'd be safer to rm boundries from the DA state vector,\n",
    "#    yielding ndim(state)=(nx-2)*(ny-2), but this is not done here.\n",
    "\n",
    "# Fortran model (e.g. f90/interface.f90) requires orientation: X[ix,iy].\n",
    "shape = (nx, ny)\n",
    "# Passing arrays to/from Fortran requries that flags['F_CONTIGUOUS']==True.\n",
    "order = 'F'\n",
    "def py2f(x): return x.reshape(shape, order=order)\n",
    "def f2py(X): return X.flatten(order=order)\n",
    "# However, FOR PRINTING/PLOTTING PURPOSES, the y-axis should be vertical\n",
    "# [imshow(mat) uses the same orientation as print(mat)].\n",
    "def square(x): return x.reshape(shape[::-1])\n",
    "def ind2sub(ind): return np.unravel_index(ind, shape[::-1])"
   ]
  },
  {
   "cell_type": "code",
   "execution_count": 12,
   "id": "2cb9c1d0",
   "metadata": {},
   "outputs": [
    {
     "name": "stdout",
     "output_type": "stream",
     "text": [
      "Did not find sample file /home/yfreund/dpr_data/samples/QG_samples.npz for experiment initialization. Generating...\n"
     ]
    },
    {
     "data": {
      "application/vnd.jupyter.widget-view+json": {
       "model_id": "cf5338cacbba4e439af23e10621ba09d",
       "version_major": 2,
       "version_minor": 0
      },
      "text/plain": [
       "Simulating:   0%|                                                                    | 0/4700 [00:00<?, ?it/s]"
      ]
     },
     "metadata": {},
     "output_type": "display_data"
    }
   ],
   "source": [
    "from dapper.mods.QG import gen_sample"
   ]
  },
  {
   "cell_type": "code",
   "execution_count": null,
   "id": "ff5f52eb",
   "metadata": {},
   "outputs": [],
   "source": [
    "#########################\n",
    "# Free run\n",
    "#########################\n",
    "def gen_sample(model, nSamples, SpinUp, Spacing):\n",
    "    simulator = modelling.with_recursion(model.step, prog=\"Simulating\")\n",
    "    K         = SpinUp + nSamples*Spacing\n",
    "    Nx        = np.prod(shape)  # total state length\n",
    "    sample    = simulator(np.zeros(Nx), K, 0.0, model.prms[\"dtout\"])\n",
    "    return sample[SpinUp::Spacing]\n",
    "\n",
    "\n",
    "sample_filename = modelling.rc.dirs.samples/'QG_samples.npz'\n",
    "if (not sample_filename.is_file()) and (\"pdoc\" not in sys.modules):\n",
    "    print('Did not find sample file', sample_filename,\n",
    "          'for experiment initialization. Generating...')\n",
    "    sample = gen_sample(model_config(\"sample_generation\", {}), 400, 700, 10)\n",
    "    np.savez(sample_filename, sample=sample)\n",
    "\n",
    "\n",
    "#########################\n",
    "# Liveplotting\n",
    "#########################\n",
    "cm = mpl.colors.ListedColormap(0.85*mpl.cm.jet(np.arange(256)))\n",
    "center = nx*int(ny/2) + int(0.5*nx)\n",
    "\n",
    "\n",
    "def LP_setup(jj=None): return [\n",
    "    (1, LP.spatial2d(square, ind2sub, jj, cm)),\n",
    "    (0, LP.spectral_errors),\n",
    "    (0, LP.sliding_marginals(dims=center+np.arange(4))),\n",
    "]"
   ]
  },
  {
   "cell_type": "code",
   "execution_count": null,
   "id": "71b28157",
   "metadata": {},
   "outputs": [],
   "source": []
  }
 ],
 "metadata": {
  "kernelspec": {
   "display_name": "Python 3 (ipykernel)",
   "language": "python",
   "name": "python3"
  },
  "language_info": {
   "codemirror_mode": {
    "name": "ipython",
    "version": 3
   },
   "file_extension": ".py",
   "mimetype": "text/x-python",
   "name": "python",
   "nbconvert_exporter": "python",
   "pygments_lexer": "ipython3",
   "version": "3.8.10"
  }
 },
 "nbformat": 4,
 "nbformat_minor": 5
}
